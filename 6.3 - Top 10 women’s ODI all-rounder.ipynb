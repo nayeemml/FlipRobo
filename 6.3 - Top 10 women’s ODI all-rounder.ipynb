{
 "cells": [
  {
   "cell_type": "markdown",
   "metadata": {},
   "source": [
    "# Top 10 women’s ODI all-rounder along with the records of their team and rating."
   ]
  },
  {
   "cell_type": "code",
   "execution_count": 1,
   "metadata": {},
   "outputs": [],
   "source": [
    "import selenium\n",
    "import pandas as pd\n",
    "from selenium import webdriver"
   ]
  },
  {
   "cell_type": "code",
   "execution_count": 2,
   "metadata": {},
   "outputs": [],
   "source": [
    "driver = webdriver.Chrome(r\"C:\\Users\\Home\\Downloads\\Nayeem\\FlipRobo internship\\WebSCraper\\chromedriver.exe\")"
   ]
  },
  {
   "cell_type": "code",
   "execution_count": 3,
   "metadata": {},
   "outputs": [],
   "source": [
    "url= \"https://www.icc-cricket.com/rankings/womens/player-rankings/odi\""
   ]
  },
  {
   "cell_type": "code",
   "execution_count": 4,
   "metadata": {},
   "outputs": [],
   "source": [
    "driver.get(url)"
   ]
  },
  {
   "cell_type": "code",
   "execution_count": 5,
   "metadata": {},
   "outputs": [],
   "source": [
    "pos=[]\n",
    "name=[]\n",
    "team=[]\n",
    "rating=[]"
   ]
  },
  {
   "cell_type": "code",
   "execution_count": 6,
   "metadata": {},
   "outputs": [],
   "source": [
    "\n",
    "first_name=driver.find_element_by_xpath(\"//div[@data-title='ODI All-Rounder Rankings']//div[@class='rankings-block__banner--name']\")\n",
    "first_pos=driver.find_element_by_xpath(\"//div[@data-title='ODI All-Rounder Rankings']//div[@class='rankings-block__banner--pos']\")\n",
    "first_team=driver.find_element_by_xpath(\"//div[@data-title='ODI All-Rounder Rankings']//div[@class='rankings-block__banner--nationality']\").text\n",
    "first_rating=driver.find_element_by_xpath(\"//div[@data-title='ODI All-Rounder Rankings']//div[@class='rankings-block__banner--rating']\")\n"
   ]
  },
  {
   "cell_type": "code",
   "execution_count": 7,
   "metadata": {},
   "outputs": [
    {
     "data": {
      "text/plain": [
       "('Ellyse Perry', '1', '460', 'AUS')"
      ]
     },
     "execution_count": 7,
     "metadata": {},
     "output_type": "execute_result"
    }
   ],
   "source": [
    "first_name.text,first_pos.text,first_rating.text,first_team[0:3].replace(\"\\n\",\"\")"
   ]
  },
  {
   "cell_type": "code",
   "execution_count": 8,
   "metadata": {},
   "outputs": [],
   "source": [
    "pos.append(first_pos.text)\n",
    "name.append(first_name.text)\n",
    "\n",
    "rating.append(first_rating.text)"
   ]
  },
  {
   "cell_type": "code",
   "execution_count": 9,
   "metadata": {},
   "outputs": [],
   "source": [
    "\n",
    "p_position=driver.find_elements_by_xpath('//div[@data-title=\"ODI All-Rounder Rankings\"]//td[@class=\"table-body__cell table-body__cell--position u-text-right\"]')\n",
    "p_name=driver.find_elements_by_xpath('//div[@data-title=\"ODI All-Rounder Rankings\"]//td[@class=\"table-body__cell name\"]')\n",
    "#p_team=driver.find_elements_by_xpath('//div[@data-link-to=\"https://www.icc-cricket.com/rankings/womens/player-rankings/odi/all-rounder\"]//span[@class=\"table-body__logo-text\"]')\n",
    "p_rating=driver.find_elements_by_xpath('//div[@data-title=\"ODI All-Rounder Rankings\"]//td[@class=\"table-body__cell u-text-right rating\"]')"
   ]
  },
  {
   "cell_type": "code",
   "execution_count": 10,
   "metadata": {},
   "outputs": [],
   "source": [
    "for i in p_position:\n",
    "     pos.append(i.text)\n",
    "\n",
    "for i in p_name:\n",
    "    name.append(i.text)\n",
    "\n",
    "# for i in p_team:\n",
    "#     team.append(i.text)\n",
    "    \n",
    "for i in p_rating:\n",
    "    rating.append(i.text)"
   ]
  },
  {
   "cell_type": "code",
   "execution_count": 11,
   "metadata": {},
   "outputs": [],
   "source": [
    "top10Women=pd.DataFrame({})\n",
    "\n",
    "top10Women[\"Player Position\"]=pos\n",
    "top10Women[\"Player Name\"]=name\n",
    "\n",
    "top10Women[\"Rating\"]=rating\n",
    "\n"
   ]
  },
  {
   "cell_type": "code",
   "execution_count": null,
   "metadata": {},
   "outputs": [],
   "source": []
  },
  {
   "cell_type": "code",
   "execution_count": 12,
   "metadata": {},
   "outputs": [
    {
     "data": {
      "text/plain": [
       "['AUS', 'WI', 'SA', 'IND', 'SA', 'AUS', 'NZ', 'ENG', 'IND', 'ENG']"
      ]
     },
     "execution_count": 12,
     "metadata": {},
     "output_type": "execute_result"
    }
   ],
   "source": [
    "#p_team=driver.find_elements_by_xpath('//div[@data-link-to=\"https://www.icc-cricket.com/rankings/womens/player-rankings/odi/all-rounder\"]//span[@class=\"table-body__logo-text\"]')\n",
    "p_team=driver.find_elements_by_xpath('//div[@data-title=\"ODI All-Rounder Rankings\"]//td[@class=\"table-body__cell nationality-logo\"]//span[@class=\"table-body__logo-text\"]')\n",
    "allteam=[]\n",
    "allteam.append(first_team[0:3].replace(\"\\n\",\"\"))\n",
    "for i in p_team:\n",
    "    allteam.append(i.get_attribute('innerText'))\n",
    "    \n",
    "allteam\n",
    "#top10Women[\"Team\"]=allteam"
   ]
  },
  {
   "cell_type": "code",
   "execution_count": 13,
   "metadata": {},
   "outputs": [
    {
     "data": {
      "text/plain": [
       "(9, 10, 9)"
      ]
     },
     "execution_count": 13,
     "metadata": {},
     "output_type": "execute_result"
    }
   ],
   "source": [
    "len(p_team),len(allteam),len(p_rating)"
   ]
  },
  {
   "cell_type": "code",
   "execution_count": 14,
   "metadata": {},
   "outputs": [
    {
     "data": {
      "text/plain": [
       "'NZ'"
      ]
     },
     "execution_count": 14,
     "metadata": {},
     "output_type": "execute_result"
    }
   ],
   "source": [
    "p_team[5].get_attribute('innerText')"
   ]
  },
  {
   "cell_type": "code",
   "execution_count": 15,
   "metadata": {},
   "outputs": [
    {
     "data": {
      "text/html": [
       "<div>\n",
       "<style scoped>\n",
       "    .dataframe tbody tr th:only-of-type {\n",
       "        vertical-align: middle;\n",
       "    }\n",
       "\n",
       "    .dataframe tbody tr th {\n",
       "        vertical-align: top;\n",
       "    }\n",
       "\n",
       "    .dataframe thead th {\n",
       "        text-align: right;\n",
       "    }\n",
       "</style>\n",
       "<table border=\"1\" class=\"dataframe\">\n",
       "  <thead>\n",
       "    <tr style=\"text-align: right;\">\n",
       "      <th></th>\n",
       "      <th>Player Position</th>\n",
       "      <th>Player Name</th>\n",
       "      <th>Rating</th>\n",
       "      <th>Team</th>\n",
       "    </tr>\n",
       "  </thead>\n",
       "  <tbody>\n",
       "    <tr>\n",
       "      <th>0</th>\n",
       "      <td>1</td>\n",
       "      <td>Ellyse Perry</td>\n",
       "      <td>460</td>\n",
       "      <td>AUS</td>\n",
       "    </tr>\n",
       "    <tr>\n",
       "      <th>1</th>\n",
       "      <td>2</td>\n",
       "      <td>Stafanie Taylor</td>\n",
       "      <td>410</td>\n",
       "      <td>WI</td>\n",
       "    </tr>\n",
       "    <tr>\n",
       "      <th>2</th>\n",
       "      <td>3</td>\n",
       "      <td>Marizanne Kapp</td>\n",
       "      <td>389</td>\n",
       "      <td>SA</td>\n",
       "    </tr>\n",
       "    <tr>\n",
       "      <th>3</th>\n",
       "      <td>4</td>\n",
       "      <td>Deepti Sharma</td>\n",
       "      <td>359</td>\n",
       "      <td>IND</td>\n",
       "    </tr>\n",
       "    <tr>\n",
       "      <th>4</th>\n",
       "      <td>5</td>\n",
       "      <td>Dane van Niekerk</td>\n",
       "      <td>335</td>\n",
       "      <td>SA</td>\n",
       "    </tr>\n",
       "    <tr>\n",
       "      <th>5</th>\n",
       "      <td>6</td>\n",
       "      <td>Jess Jonassen</td>\n",
       "      <td>301</td>\n",
       "      <td>AUS</td>\n",
       "    </tr>\n",
       "    <tr>\n",
       "      <th>6</th>\n",
       "      <td>7</td>\n",
       "      <td>Sophie Devine</td>\n",
       "      <td>289</td>\n",
       "      <td>NZ</td>\n",
       "    </tr>\n",
       "    <tr>\n",
       "      <th>7</th>\n",
       "      <td>8</td>\n",
       "      <td>Natalie Sciver</td>\n",
       "      <td>273</td>\n",
       "      <td>ENG</td>\n",
       "    </tr>\n",
       "    <tr>\n",
       "      <th>8</th>\n",
       "      <td>9</td>\n",
       "      <td>Shikha Pandey</td>\n",
       "      <td>250</td>\n",
       "      <td>IND</td>\n",
       "    </tr>\n",
       "    <tr>\n",
       "      <th>9</th>\n",
       "      <td>10</td>\n",
       "      <td>Katherine Brunt</td>\n",
       "      <td>232</td>\n",
       "      <td>ENG</td>\n",
       "    </tr>\n",
       "  </tbody>\n",
       "</table>\n",
       "</div>"
      ],
      "text/plain": [
       "  Player Position       Player Name Rating Team\n",
       "0               1      Ellyse Perry    460  AUS\n",
       "1               2   Stafanie Taylor    410   WI\n",
       "2               3    Marizanne Kapp    389   SA\n",
       "3               4     Deepti Sharma    359  IND\n",
       "4               5  Dane van Niekerk    335   SA\n",
       "5               6     Jess Jonassen    301  AUS\n",
       "6               7     Sophie Devine    289   NZ\n",
       "7               8    Natalie Sciver    273  ENG\n",
       "8               9     Shikha Pandey    250  IND\n",
       "9              10   Katherine Brunt    232  ENG"
      ]
     },
     "execution_count": 15,
     "metadata": {},
     "output_type": "execute_result"
    }
   ],
   "source": [
    "top10Women[\"Team\"]=allteam\n",
    "top10Women"
   ]
  },
  {
   "cell_type": "code",
   "execution_count": null,
   "metadata": {},
   "outputs": [],
   "source": []
  }
 ],
 "metadata": {
  "kernelspec": {
   "display_name": "Python 3",
   "language": "python",
   "name": "python3"
  },
  "language_info": {
   "codemirror_mode": {
    "name": "ipython",
    "version": 3
   },
   "file_extension": ".py",
   "mimetype": "text/x-python",
   "name": "python",
   "nbconvert_exporter": "python",
   "pygments_lexer": "ipython3",
   "version": "3.8.3"
  }
 },
 "nbformat": 4,
 "nbformat_minor": 4
}
