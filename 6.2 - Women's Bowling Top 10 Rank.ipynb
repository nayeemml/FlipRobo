{
 "cells": [
  {
   "cell_type": "markdown",
   "metadata": {},
   "source": [
    "# Women's Bowling Top 10 Rank"
   ]
  },
  {
   "cell_type": "code",
   "execution_count": 1,
   "metadata": {},
   "outputs": [],
   "source": [
    "import selenium\n",
    "import pandas as pd\n",
    "from selenium import webdriver "
   ]
  },
  {
   "cell_type": "code",
   "execution_count": 2,
   "metadata": {},
   "outputs": [],
   "source": [
    "driver=webdriver.Chrome(r\"C:\\Users\\Home\\Downloads\\Nayeem\\FlipRobo internship\\WebSCraper\\chromedriver.exe\")"
   ]
  },
  {
   "cell_type": "code",
   "execution_count": 3,
   "metadata": {},
   "outputs": [],
   "source": [
    "url = \"https://www.icc-cricket.com/rankings/womens/player-rankings/odi\""
   ]
  },
  {
   "cell_type": "code",
   "execution_count": 4,
   "metadata": {},
   "outputs": [],
   "source": [
    "driver.get(url)"
   ]
  },
  {
   "cell_type": "code",
   "execution_count": 5,
   "metadata": {},
   "outputs": [],
   "source": [
    "pos=[]\n",
    "name=[]\n",
    "team=[]\n",
    "rating=[]\n",
    "# (//*[@id=\"main-content\"]/div/div[2]/div/div/div/div/div[2]/div/div[1]/a/div/div[1])"
   ]
  },
  {
   "cell_type": "code",
   "execution_count": 6,
   "metadata": {},
   "outputs": [],
   "source": [
    "first_position=driver.find_element_by_xpath('//*[@id=\"main-content\"]/div/div[2]/div/div/div/div/div[2]/div/div[1]/a/div/div[1]')\n",
    "first_name=driver.find_element_by_xpath('//*[@id=\"main-content\"]/div/div[2]/div/div/div/div/div[2]/div/div[1]/a/div/div[2]/div[1]')\n",
    "first_team=driver.find_element_by_xpath('//*[@id=\"main-content\"]/div/div[2]/div/div/div/div/div[2]/div/div[1]/a/div/div[2]/div[2]')\n",
    "first_rating=driver.find_element_by_xpath('//*[@id=\"main-content\"]/div/div[2]/div/div/div/div/div[2]/div/div[1]/a/div/div[2]/div[2]/div[2]')\n"
   ]
  },
  {
   "cell_type": "code",
   "execution_count": 7,
   "metadata": {},
   "outputs": [
    {
     "data": {
      "text/plain": [
       "('1', 'Jess Jonassen', 'AUS', '804')"
      ]
     },
     "execution_count": 7,
     "metadata": {},
     "output_type": "execute_result"
    }
   ],
   "source": [
    "first_position.text, first_name.text,first_team.text[0:3].replace(\"\\n\",\"\"), first_rating.text"
   ]
  },
  {
   "cell_type": "code",
   "execution_count": 8,
   "metadata": {},
   "outputs": [],
   "source": [
    "pos.append(first_position.text)\n",
    "name.append(first_name.text)\n",
    "#team.append(first_team.text[0:3])\n",
    "rating.append(first_rating.text)"
   ]
  },
  {
   "cell_type": "code",
   "execution_count": 9,
   "metadata": {},
   "outputs": [],
   "source": [
    "\n",
    "p_position=driver.find_elements_by_xpath('//*[@id=\"main-content\"]/div/div[2]/div/div/div/div/div[2]/div/table/tbody/tr/td[1]')\n",
    "p_name=driver.find_elements_by_xpath('//*[@id=\"main-content\"]/div/div[2]/div/div/div/div/div[2]/div/table/tbody/tr/td[2]/a')\n",
    "#p_team=driver.find_elements_by_xpath(\"//*[@id='main-content']/div/div[2]/div/div/section[1]/div[2]/div[1]/div/table/tbody/tr/td[3]\")\n",
    "\n",
    "p_rating=driver.find_elements_by_xpath('//*[@id=\"main-content\"]/div/div[2]/div/div/div/div/div[2]/div/table/tbody/tr/td[4]')\n",
    "p_team=driver.find_elements_by_xpath(\"//*[@id='main-content']/div/div[2]/div/div/div/div/div[2]/div/table/tbody/tr/td[3]/span[2]\")"
   ]
  },
  {
   "cell_type": "code",
   "execution_count": 10,
   "metadata": {},
   "outputs": [],
   "source": [
    "import pandas as pd\n",
    "top10bowl=pd.DataFrame({})"
   ]
  },
  {
   "cell_type": "code",
   "execution_count": 11,
   "metadata": {},
   "outputs": [],
   "source": [
    "for i in p_position:\n",
    "     pos.append(i.text)\n",
    "for i in p_name:\n",
    "     name.append(i.text)\n",
    "# for i in p_team:\n",
    "#      team.append(i.text)\n",
    "for i in p_rating:\n",
    "     rating.append(i.text)"
   ]
  },
  {
   "cell_type": "code",
   "execution_count": 12,
   "metadata": {},
   "outputs": [],
   "source": [
    "top10bowl[\"Position\"]=pos\n",
    "top10bowl[\"Name\"]=name\n",
    "#top10bowl[\"Team\"]=team\n",
    "top10bowl[\"Ratings\"]=rating"
   ]
  },
  {
   "cell_type": "code",
   "execution_count": 13,
   "metadata": {},
   "outputs": [
    {
     "data": {
      "text/html": [
       "<div>\n",
       "<style scoped>\n",
       "    .dataframe tbody tr th:only-of-type {\n",
       "        vertical-align: middle;\n",
       "    }\n",
       "\n",
       "    .dataframe tbody tr th {\n",
       "        vertical-align: top;\n",
       "    }\n",
       "\n",
       "    .dataframe thead th {\n",
       "        text-align: right;\n",
       "    }\n",
       "</style>\n",
       "<table border=\"1\" class=\"dataframe\">\n",
       "  <thead>\n",
       "    <tr style=\"text-align: right;\">\n",
       "      <th></th>\n",
       "      <th>Position</th>\n",
       "      <th>Name</th>\n",
       "      <th>Ratings</th>\n",
       "    </tr>\n",
       "  </thead>\n",
       "  <tbody>\n",
       "    <tr>\n",
       "      <th>0</th>\n",
       "      <td>1</td>\n",
       "      <td>Jess Jonassen</td>\n",
       "      <td>804</td>\n",
       "    </tr>\n",
       "    <tr>\n",
       "      <th>1</th>\n",
       "      <td>2</td>\n",
       "      <td>Marizanne Kapp</td>\n",
       "      <td>738</td>\n",
       "    </tr>\n",
       "    <tr>\n",
       "      <th>2</th>\n",
       "      <td>3</td>\n",
       "      <td>Megan Schutt</td>\n",
       "      <td>735</td>\n",
       "    </tr>\n",
       "    <tr>\n",
       "      <th>3</th>\n",
       "      <td>4</td>\n",
       "      <td>Shabnim Ismail</td>\n",
       "      <td>717</td>\n",
       "    </tr>\n",
       "    <tr>\n",
       "      <th>4</th>\n",
       "      <td>5</td>\n",
       "      <td>Jhulan Goswami</td>\n",
       "      <td>691</td>\n",
       "    </tr>\n",
       "    <tr>\n",
       "      <th>5</th>\n",
       "      <td>6</td>\n",
       "      <td>Poonam Yadav</td>\n",
       "      <td>679</td>\n",
       "    </tr>\n",
       "    <tr>\n",
       "      <th>6</th>\n",
       "      <td>7</td>\n",
       "      <td>Shikha Pandey</td>\n",
       "      <td>675</td>\n",
       "    </tr>\n",
       "    <tr>\n",
       "      <th>7</th>\n",
       "      <td>8</td>\n",
       "      <td>Ellyse Perry</td>\n",
       "      <td>666</td>\n",
       "    </tr>\n",
       "    <tr>\n",
       "      <th>8</th>\n",
       "      <td>9</td>\n",
       "      <td>Anya Shrubsole</td>\n",
       "      <td>645</td>\n",
       "    </tr>\n",
       "    <tr>\n",
       "      <th>9</th>\n",
       "      <td>10</td>\n",
       "      <td>Deepti Sharma</td>\n",
       "      <td>639</td>\n",
       "    </tr>\n",
       "  </tbody>\n",
       "</table>\n",
       "</div>"
      ],
      "text/plain": [
       "  Position            Name Ratings\n",
       "0        1   Jess Jonassen     804\n",
       "1        2  Marizanne Kapp     738\n",
       "2        3    Megan Schutt     735\n",
       "3        4  Shabnim Ismail     717\n",
       "4        5  Jhulan Goswami     691\n",
       "5        6    Poonam Yadav     679\n",
       "6        7   Shikha Pandey     675\n",
       "7        8    Ellyse Perry     666\n",
       "8        9  Anya Shrubsole     645\n",
       "9       10   Deepti Sharma     639"
      ]
     },
     "execution_count": 13,
     "metadata": {},
     "output_type": "execute_result"
    }
   ],
   "source": [
    "top10bowl"
   ]
  },
  {
   "cell_type": "code",
   "execution_count": 14,
   "metadata": {},
   "outputs": [
    {
     "data": {
      "text/plain": [
       "['AUS', 'SA', 'AUS', 'SA', 'IND', 'IND', 'IND', 'AUS', 'ENG', 'IND']"
      ]
     },
     "execution_count": 14,
     "metadata": {},
     "output_type": "execute_result"
    }
   ],
   "source": [
    "team=[]\n",
    "team.append(first_team.text[0:3].replace(\"\\n\",\"\"))\n",
    "for i in p_team:\n",
    "    team.append(i.get_attribute('innerHTML'))\n",
    "team"
   ]
  },
  {
   "cell_type": "code",
   "execution_count": 15,
   "metadata": {},
   "outputs": [],
   "source": [
    "top10bowl[\"Team\"]=team"
   ]
  },
  {
   "cell_type": "code",
   "execution_count": 16,
   "metadata": {},
   "outputs": [
    {
     "data": {
      "text/html": [
       "<div>\n",
       "<style scoped>\n",
       "    .dataframe tbody tr th:only-of-type {\n",
       "        vertical-align: middle;\n",
       "    }\n",
       "\n",
       "    .dataframe tbody tr th {\n",
       "        vertical-align: top;\n",
       "    }\n",
       "\n",
       "    .dataframe thead th {\n",
       "        text-align: right;\n",
       "    }\n",
       "</style>\n",
       "<table border=\"1\" class=\"dataframe\">\n",
       "  <thead>\n",
       "    <tr style=\"text-align: right;\">\n",
       "      <th></th>\n",
       "      <th>Position</th>\n",
       "      <th>Name</th>\n",
       "      <th>Ratings</th>\n",
       "      <th>Team</th>\n",
       "    </tr>\n",
       "  </thead>\n",
       "  <tbody>\n",
       "    <tr>\n",
       "      <th>0</th>\n",
       "      <td>1</td>\n",
       "      <td>Jess Jonassen</td>\n",
       "      <td>804</td>\n",
       "      <td>AUS</td>\n",
       "    </tr>\n",
       "    <tr>\n",
       "      <th>1</th>\n",
       "      <td>2</td>\n",
       "      <td>Marizanne Kapp</td>\n",
       "      <td>738</td>\n",
       "      <td>SA</td>\n",
       "    </tr>\n",
       "    <tr>\n",
       "      <th>2</th>\n",
       "      <td>3</td>\n",
       "      <td>Megan Schutt</td>\n",
       "      <td>735</td>\n",
       "      <td>AUS</td>\n",
       "    </tr>\n",
       "    <tr>\n",
       "      <th>3</th>\n",
       "      <td>4</td>\n",
       "      <td>Shabnim Ismail</td>\n",
       "      <td>717</td>\n",
       "      <td>SA</td>\n",
       "    </tr>\n",
       "    <tr>\n",
       "      <th>4</th>\n",
       "      <td>5</td>\n",
       "      <td>Jhulan Goswami</td>\n",
       "      <td>691</td>\n",
       "      <td>IND</td>\n",
       "    </tr>\n",
       "    <tr>\n",
       "      <th>5</th>\n",
       "      <td>6</td>\n",
       "      <td>Poonam Yadav</td>\n",
       "      <td>679</td>\n",
       "      <td>IND</td>\n",
       "    </tr>\n",
       "    <tr>\n",
       "      <th>6</th>\n",
       "      <td>7</td>\n",
       "      <td>Shikha Pandey</td>\n",
       "      <td>675</td>\n",
       "      <td>IND</td>\n",
       "    </tr>\n",
       "    <tr>\n",
       "      <th>7</th>\n",
       "      <td>8</td>\n",
       "      <td>Ellyse Perry</td>\n",
       "      <td>666</td>\n",
       "      <td>AUS</td>\n",
       "    </tr>\n",
       "    <tr>\n",
       "      <th>8</th>\n",
       "      <td>9</td>\n",
       "      <td>Anya Shrubsole</td>\n",
       "      <td>645</td>\n",
       "      <td>ENG</td>\n",
       "    </tr>\n",
       "    <tr>\n",
       "      <th>9</th>\n",
       "      <td>10</td>\n",
       "      <td>Deepti Sharma</td>\n",
       "      <td>639</td>\n",
       "      <td>IND</td>\n",
       "    </tr>\n",
       "  </tbody>\n",
       "</table>\n",
       "</div>"
      ],
      "text/plain": [
       "  Position            Name Ratings Team\n",
       "0        1   Jess Jonassen     804  AUS\n",
       "1        2  Marizanne Kapp     738   SA\n",
       "2        3    Megan Schutt     735  AUS\n",
       "3        4  Shabnim Ismail     717   SA\n",
       "4        5  Jhulan Goswami     691  IND\n",
       "5        6    Poonam Yadav     679  IND\n",
       "6        7   Shikha Pandey     675  IND\n",
       "7        8    Ellyse Perry     666  AUS\n",
       "8        9  Anya Shrubsole     645  ENG\n",
       "9       10   Deepti Sharma     639  IND"
      ]
     },
     "execution_count": 16,
     "metadata": {},
     "output_type": "execute_result"
    }
   ],
   "source": [
    "top10bowl"
   ]
  },
  {
   "cell_type": "code",
   "execution_count": null,
   "metadata": {},
   "outputs": [],
   "source": []
  }
 ],
 "metadata": {
  "kernelspec": {
   "display_name": "Python 3",
   "language": "python",
   "name": "python3"
  },
  "language_info": {
   "codemirror_mode": {
    "name": "ipython",
    "version": 3
   },
   "file_extension": ".py",
   "mimetype": "text/x-python",
   "name": "python",
   "nbconvert_exporter": "python",
   "pygments_lexer": "ipython3",
   "version": "3.8.3"
  }
 },
 "nbformat": 4,
 "nbformat_minor": 4
}
