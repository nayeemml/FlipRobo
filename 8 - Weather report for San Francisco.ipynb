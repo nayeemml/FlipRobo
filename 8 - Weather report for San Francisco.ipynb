{
 "cells": [
  {
   "cell_type": "markdown",
   "metadata": {},
   "source": [
    "# Write a python program to extract information about the local weather from the National Weather Service website of USA, https://www.weather.gov/ for the city, San Francisco. You need to extract data about 7 day extended forecast display for the city. The data should include period, short description, temperature and description. "
   ]
  },
  {
   "cell_type": "code",
   "execution_count": 1,
   "metadata": {},
   "outputs": [],
   "source": [
    "import selenium\n",
    "import pandas as pd\n",
    "from selenium import webdriver"
   ]
  },
  {
   "cell_type": "code",
   "execution_count": 2,
   "metadata": {},
   "outputs": [],
   "source": [
    "driver = webdriver.Chrome(r\"C:\\Users\\Home\\Downloads\\Nayeem\\FlipRobo internship\\WebSCraper\\chromedriver.exe\")"
   ]
  },
  {
   "cell_type": "code",
   "execution_count": 3,
   "metadata": {},
   "outputs": [],
   "source": [
    "url=\"https://forecast.weather.gov/MapClick.php?lat=37.7749&lon=-122.4194\""
   ]
  },
  {
   "cell_type": "code",
   "execution_count": 4,
   "metadata": {},
   "outputs": [],
   "source": [
    "driver.get(url)"
   ]
  },
  {
   "cell_type": "code",
   "execution_count": 5,
   "metadata": {},
   "outputs": [],
   "source": [
    "period_tag=driver.find_elements_by_xpath(\"//p[@class='period-name']\")\n",
    "short_desc=driver.find_elements_by_xpath(\"//p[@class='short-desc']\")\n",
    "temp_high=driver.find_elements_by_xpath(\"//p[@class='temp temp-high']\")\n",
    "temp_low=driver.find_elements_by_xpath(\"//p[@class='temp temp-low']\")\n",
    "long_desc=driver.find_elements_by_xpath(\"//div[@class='col-sm-10 forecast-text']\")"
   ]
  },
  {
   "cell_type": "code",
   "execution_count": 6,
   "metadata": {},
   "outputs": [
    {
     "data": {
      "text/plain": [
       "['Partly sunny, with a high near 59. Light and variable wind.',\n",
       " 'Mostly cloudy, with a low around 47. West northwest wind around 5 mph becoming calm after midnight.',\n",
       " 'Patchy fog before 8am. Otherwise, partly sunny, with a high near 59. Light north northwest wind.',\n",
       " 'Mostly cloudy, with a low around 47. Calm wind.',\n",
       " 'Mostly cloudy, with a high near 61. Calm wind becoming north around 5 mph in the afternoon.',\n",
       " 'Mostly cloudy, with a low around 49.',\n",
       " 'Partly sunny, with a high near 63.',\n",
       " 'Mostly cloudy, with a low around 50.',\n",
       " 'Mostly sunny, with a high near 65.',\n",
       " 'Partly cloudy, with a low around 48.',\n",
       " 'Partly sunny, with a high near 64.',\n",
       " 'Partly cloudy, with a low around 49.',\n",
       " 'Mostly sunny, with a high near 64.']"
      ]
     },
     "execution_count": 6,
     "metadata": {},
     "output_type": "execute_result"
    }
   ],
   "source": [
    "detailed_description=[]\n",
    "\n",
    "for i in long_desc:\n",
    "    detailed_description.append(i.text)\n",
    "detailed_description"
   ]
  },
  {
   "cell_type": "code",
   "execution_count": null,
   "metadata": {},
   "outputs": [],
   "source": []
  },
  {
   "cell_type": "code",
   "execution_count": 7,
   "metadata": {},
   "outputs": [
    {
     "data": {
      "text/plain": [
       "['High: 59 °F',\n",
       " 'High: 59 °F',\n",
       " 'High: 61 °F',\n",
       " 'High: 63 °F',\n",
       " 'Low: 47 °F',\n",
       " 'Low: 47 °F',\n",
       " 'Low: 49 °F',\n",
       " 'Low: 50 °F']"
      ]
     },
     "execution_count": 7,
     "metadata": {},
     "output_type": "execute_result"
    }
   ],
   "source": [
    "temperature=[]\n",
    "\n",
    "for i in temp_high:\n",
    "    temperature.append(i.text)\n",
    "for i in temp_low:\n",
    "    temperature.append(i.text)\n",
    "temperature"
   ]
  },
  {
   "cell_type": "code",
   "execution_count": 8,
   "metadata": {},
   "outputs": [],
   "source": [
    "day=[]\n",
    "for i in period_tag:\n",
    "    day.append(i.text.replace(\"\\n\",\" \"))\n",
    "desc=[]\n",
    "for i in short_desc:\n",
    "    desc.append(i.text.replace(\"\\n\",\" \"))"
   ]
  },
  {
   "cell_type": "code",
   "execution_count": 9,
   "metadata": {},
   "outputs": [
    {
     "data": {
      "text/plain": [
       "(9, 9, 8, 13)"
      ]
     },
     "execution_count": 9,
     "metadata": {},
     "output_type": "execute_result"
    }
   ],
   "source": [
    "len(day),len(desc),len(temperature),len(detailed_description)"
   ]
  },
  {
   "cell_type": "code",
   "execution_count": 10,
   "metadata": {},
   "outputs": [],
   "source": [
    "Weather=pd.DataFrame({})\n",
    "\n",
    "Weather[\"Period\"]=day[0:8]\n",
    "Weather[\"Short Description\"]=desc[0:8]\n",
    "Weather[\"Temperature\"]=temperature\n",
    "Weather[\"Detailed Description\"]=detailed_description[0:8]"
   ]
  },
  {
   "cell_type": "code",
   "execution_count": 11,
   "metadata": {},
   "outputs": [
    {
     "data": {
      "text/html": [
       "<div>\n",
       "<style scoped>\n",
       "    .dataframe tbody tr th:only-of-type {\n",
       "        vertical-align: middle;\n",
       "    }\n",
       "\n",
       "    .dataframe tbody tr th {\n",
       "        vertical-align: top;\n",
       "    }\n",
       "\n",
       "    .dataframe thead th {\n",
       "        text-align: right;\n",
       "    }\n",
       "</style>\n",
       "<table border=\"1\" class=\"dataframe\">\n",
       "  <thead>\n",
       "    <tr style=\"text-align: right;\">\n",
       "      <th></th>\n",
       "      <th>Period</th>\n",
       "      <th>Short Description</th>\n",
       "      <th>Temperature</th>\n",
       "      <th>Detailed Description</th>\n",
       "    </tr>\n",
       "  </thead>\n",
       "  <tbody>\n",
       "    <tr>\n",
       "      <th>0</th>\n",
       "      <td>NOW until 9:00pm Sun</td>\n",
       "      <td>High Surf Warning</td>\n",
       "      <td>High: 59 °F</td>\n",
       "      <td>Partly sunny, with a high near 59. Light and v...</td>\n",
       "    </tr>\n",
       "    <tr>\n",
       "      <th>1</th>\n",
       "      <td>Today</td>\n",
       "      <td>Partly Sunny</td>\n",
       "      <td>High: 59 °F</td>\n",
       "      <td>Mostly cloudy, with a low around 47. West nort...</td>\n",
       "    </tr>\n",
       "    <tr>\n",
       "      <th>2</th>\n",
       "      <td>Tonight</td>\n",
       "      <td>Mostly Cloudy</td>\n",
       "      <td>High: 61 °F</td>\n",
       "      <td>Patchy fog before 8am. Otherwise, partly sunny...</td>\n",
       "    </tr>\n",
       "    <tr>\n",
       "      <th>3</th>\n",
       "      <td>Monday</td>\n",
       "      <td>Patchy Fog then Partly Sunny</td>\n",
       "      <td>High: 63 °F</td>\n",
       "      <td>Mostly cloudy, with a low around 47. Calm wind.</td>\n",
       "    </tr>\n",
       "    <tr>\n",
       "      <th>4</th>\n",
       "      <td>Monday Night</td>\n",
       "      <td>Mostly Cloudy</td>\n",
       "      <td>Low: 47 °F</td>\n",
       "      <td>Mostly cloudy, with a high near 61. Calm wind ...</td>\n",
       "    </tr>\n",
       "    <tr>\n",
       "      <th>5</th>\n",
       "      <td>Tuesday</td>\n",
       "      <td>Mostly Cloudy</td>\n",
       "      <td>Low: 47 °F</td>\n",
       "      <td>Mostly cloudy, with a low around 49.</td>\n",
       "    </tr>\n",
       "    <tr>\n",
       "      <th>6</th>\n",
       "      <td>Tuesday Night</td>\n",
       "      <td>Mostly Cloudy</td>\n",
       "      <td>Low: 49 °F</td>\n",
       "      <td>Partly sunny, with a high near 63.</td>\n",
       "    </tr>\n",
       "    <tr>\n",
       "      <th>7</th>\n",
       "      <td>Wednesday</td>\n",
       "      <td>Partly Sunny</td>\n",
       "      <td>Low: 50 °F</td>\n",
       "      <td>Mostly cloudy, with a low around 50.</td>\n",
       "    </tr>\n",
       "  </tbody>\n",
       "</table>\n",
       "</div>"
      ],
      "text/plain": [
       "                 Period             Short Description  Temperature  \\\n",
       "0  NOW until 9:00pm Sun             High Surf Warning  High: 59 °F   \n",
       "1                 Today                  Partly Sunny  High: 59 °F   \n",
       "2               Tonight                 Mostly Cloudy  High: 61 °F   \n",
       "3                Monday  Patchy Fog then Partly Sunny  High: 63 °F   \n",
       "4          Monday Night                 Mostly Cloudy   Low: 47 °F   \n",
       "5               Tuesday                 Mostly Cloudy   Low: 47 °F   \n",
       "6         Tuesday Night                 Mostly Cloudy   Low: 49 °F   \n",
       "7             Wednesday                  Partly Sunny   Low: 50 °F   \n",
       "\n",
       "                                Detailed Description  \n",
       "0  Partly sunny, with a high near 59. Light and v...  \n",
       "1  Mostly cloudy, with a low around 47. West nort...  \n",
       "2  Patchy fog before 8am. Otherwise, partly sunny...  \n",
       "3    Mostly cloudy, with a low around 47. Calm wind.  \n",
       "4  Mostly cloudy, with a high near 61. Calm wind ...  \n",
       "5               Mostly cloudy, with a low around 49.  \n",
       "6                 Partly sunny, with a high near 63.  \n",
       "7               Mostly cloudy, with a low around 50.  "
      ]
     },
     "execution_count": 11,
     "metadata": {},
     "output_type": "execute_result"
    }
   ],
   "source": [
    "Weather"
   ]
  },
  {
   "cell_type": "code",
   "execution_count": null,
   "metadata": {},
   "outputs": [],
   "source": []
  }
 ],
 "metadata": {
  "kernelspec": {
   "display_name": "Python 3",
   "language": "python",
   "name": "python3"
  },
  "language_info": {
   "codemirror_mode": {
    "name": "ipython",
    "version": 3
   },
   "file_extension": ".py",
   "mimetype": "text/x-python",
   "name": "python",
   "nbconvert_exporter": "python",
   "pygments_lexer": "ipython3",
   "version": "3.8.3"
  }
 },
 "nbformat": 4,
 "nbformat_minor": 4
}
