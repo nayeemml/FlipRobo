{
 "cells": [
  {
   "cell_type": "markdown",
   "metadata": {},
   "source": [
    "# Write a python program to scrape details of all the mobile phones under Rs. 20,000 listed on Amazon.in. The scraped data should include Product Name, Price, Image URL and Average Rating."
   ]
  },
  {
   "cell_type": "code",
   "execution_count": 9,
   "metadata": {},
   "outputs": [],
   "source": [
    "import selenium \n",
    "import pandas as pd\n",
    "from selenium import webdriver"
   ]
  },
  {
   "cell_type": "code",
   "execution_count": 10,
   "metadata": {},
   "outputs": [],
   "source": [
    "driver = webdriver.Chrome(r\"C:\\Users\\Home\\Downloads\\Nayeem\\FlipRobo internship\\WebSCraper\\chromedriver.exe\")"
   ]
  },
  {
   "cell_type": "code",
   "execution_count": 11,
   "metadata": {},
   "outputs": [],
   "source": [
    "url=\"https://www.amazon.in/s?k=mobile+phones+under+20000+rupees&crid=1KYNG8Y670R4U&sprefix=mobile+phones+under+20000%2Caps%2C326&ref=nb_sb_ss_ts-a-p_3_25\""
   ]
  },
  {
   "cell_type": "code",
   "execution_count": 12,
   "metadata": {},
   "outputs": [],
   "source": [
    "driver.get(url)"
   ]
  },
  {
   "cell_type": "code",
   "execution_count": 13,
   "metadata": {},
   "outputs": [],
   "source": [
    "name=[]\n",
    "link=[]\n",
    "price=[]\n",
    "rating=[]"
   ]
  },
  {
   "cell_type": "code",
   "execution_count": 14,
   "metadata": {},
   "outputs": [],
   "source": [
    "p_name=driver.find_elements_by_xpath('//*[@id=\"search\"]/div[1]/div[2]/div/span[3]/div[2]/div/div/span/div/div/div[2]/div[2]/div/div/div/div/div/h2/a/span')\n",
    "p_price=driver.find_elements_by_xpath('//*[@id=\"search\"]/div[1]/div[2]/div/span[3]/div[2]/div/div/span/div/div/div/div/div/div/div/div/div/div/div/div/a/span/span/span[2]')\n",
    "#p_rating=driver.find_elements_by_xpath('//*[@id=\"search\"]/div[1]/div[2]/div/span[3]/div[2]/div/div/span/div/div/div[2]/div[2]/div/div[1]/div/div/div[2]/div/span[1]/span/a/i[1]/span')\n",
    "p_link=driver.find_elements_by_xpath('//*[@id=\"search\"]/div[1]/div[2]/div/span[3]/div[2]/div/div/span/div/div/div[2]/div[2]/div/div[1]/div/div/div[1]/h2/a')"
   ]
  },
  {
   "cell_type": "code",
   "execution_count": 15,
   "metadata": {},
   "outputs": [],
   "source": [
    "p_rating=driver.find_elements_by_xpath('//*[@id=\"search\"]/div[1]/div[2]/div/span[3]/div[2]/div/div/span/div/div/div[2]/div[2]/div/div[1]/div/div/div[2]/div/span[1]/span/a/i[1]/span')\n",
    "for i in p_rating:\n",
    "    if i.get_attribute('innerText')==\"\":\n",
    "        rating.append(\"None\")\n",
    "        break\n",
    "    rating.append(i.get_attribute('innerText'))"
   ]
  },
  {
   "cell_type": "code",
   "execution_count": 16,
   "metadata": {},
   "outputs": [
    {
     "data": {
      "text/plain": [
       "(15, 15)"
      ]
     },
     "execution_count": 16,
     "metadata": {},
     "output_type": "execute_result"
    }
   ],
   "source": [
    "len(p_rating),len(rating)"
   ]
  },
  {
   "cell_type": "code",
   "execution_count": 17,
   "metadata": {},
   "outputs": [],
   "source": [
    "rating.append(\"\")"
   ]
  },
  {
   "cell_type": "code",
   "execution_count": 18,
   "metadata": {},
   "outputs": [],
   "source": [
    "for i in p_name:\n",
    "    name.append(i.text)\n",
    "for i in p_price:\n",
    "    price.append(i.text)\n",
    "# for i in p_rating:\n",
    "#     rating.append(i.get_attribute('innerText'))\n",
    "for i in p_link:\n",
    "    link.append(i.get_attribute('href'))"
   ]
  },
  {
   "cell_type": "code",
   "execution_count": 19,
   "metadata": {},
   "outputs": [
    {
     "data": {
      "text/plain": [
       "(16, 16, 16, 16)"
      ]
     },
     "execution_count": 19,
     "metadata": {},
     "output_type": "execute_result"
    }
   ],
   "source": [
    "len(name),len(price),len(rating),len(link)"
   ]
  },
  {
   "cell_type": "code",
   "execution_count": 20,
   "metadata": {},
   "outputs": [
    {
     "data": {
      "text/html": [
       "<div>\n",
       "<style scoped>\n",
       "    .dataframe tbody tr th:only-of-type {\n",
       "        vertical-align: middle;\n",
       "    }\n",
       "\n",
       "    .dataframe tbody tr th {\n",
       "        vertical-align: top;\n",
       "    }\n",
       "\n",
       "    .dataframe thead th {\n",
       "        text-align: right;\n",
       "    }\n",
       "</style>\n",
       "<table border=\"1\" class=\"dataframe\">\n",
       "  <thead>\n",
       "    <tr style=\"text-align: right;\">\n",
       "      <th></th>\n",
       "      <th>Name of the Phone</th>\n",
       "      <th>Price</th>\n",
       "      <th>Ratings</th>\n",
       "      <th>Link</th>\n",
       "    </tr>\n",
       "  </thead>\n",
       "  <tbody>\n",
       "    <tr>\n",
       "      <th>0</th>\n",
       "      <td>Samsung Galaxy M31 (Ocean Blue, 6GB RAM, 128GB...</td>\n",
       "      <td>16,499</td>\n",
       "      <td>4.2 out of 5 stars</td>\n",
       "      <td>https://www.amazon.in/Samsung-Galaxy-Ocean-128...</td>\n",
       "    </tr>\n",
       "    <tr>\n",
       "      <th>1</th>\n",
       "      <td>Redmi 8A Dual (Sea Blue, 3GB RAM, 32GB Storage...</td>\n",
       "      <td>7,999</td>\n",
       "      <td>4.0 out of 5 stars</td>\n",
       "      <td>https://www.amazon.in/Redmi-8A-Dual-Blue-Stora...</td>\n",
       "    </tr>\n",
       "    <tr>\n",
       "      <th>2</th>\n",
       "      <td>Samsung Galaxy M21 (Midnight Blue, 4GB RAM, 64...</td>\n",
       "      <td>13,999</td>\n",
       "      <td>4.2 out of 5 stars</td>\n",
       "      <td>https://www.amazon.in/Samsung-Galaxy-Midnight-...</td>\n",
       "    </tr>\n",
       "    <tr>\n",
       "      <th>3</th>\n",
       "      <td>Panasonic Eluga i7 (2GB RAM, 16GB Storage, Fin...</td>\n",
       "      <td>5,000</td>\n",
       "      <td>2.9 out of 5 stars</td>\n",
       "      <td>https://www.amazon.in/Panasonic-Storage-Finger...</td>\n",
       "    </tr>\n",
       "    <tr>\n",
       "      <th>4</th>\n",
       "      <td>Samsung Galaxy M01 Core (Blue, 2GB RAM, 32GB S...</td>\n",
       "      <td>5,999</td>\n",
       "      <td>3.4 out of 5 stars</td>\n",
       "      <td>https://www.amazon.in/Samsung-Galaxy-Storage-A...</td>\n",
       "    </tr>\n",
       "    <tr>\n",
       "      <th>5</th>\n",
       "      <td>Redmi Note 9 Pro (Interstellar Black, 4GB RAM,...</td>\n",
       "      <td>12,999</td>\n",
       "      <td>4.2 out of 5 stars</td>\n",
       "      <td>https://www.amazon.in/Redmi-Note-Pro-Interstel...</td>\n",
       "    </tr>\n",
       "    <tr>\n",
       "      <th>6</th>\n",
       "      <td>Samsung Galaxy M01 Core (Blue, 1GB RAM, 16GB S...</td>\n",
       "      <td>4,999</td>\n",
       "      <td>3.4 out of 5 stars</td>\n",
       "      <td>https://www.amazon.in/Samsung-Galaxy-Storage-A...</td>\n",
       "    </tr>\n",
       "    <tr>\n",
       "      <th>7</th>\n",
       "      <td>Vivo Y50 (Pearl White, 8GB RAM, 128GB Storage)...</td>\n",
       "      <td>16,490</td>\n",
       "      <td>4.1 out of 5 stars</td>\n",
       "      <td>https://www.amazon.in/Vivo-Storage-Additional-...</td>\n",
       "    </tr>\n",
       "    <tr>\n",
       "      <th>8</th>\n",
       "      <td>Samsung Galaxy M21 (Raven Black, 4GB RAM, 64GB...</td>\n",
       "      <td>13,999</td>\n",
       "      <td>4.2 out of 5 stars</td>\n",
       "      <td>https://www.amazon.in/Samsung-Galaxy-Raven-Bla...</td>\n",
       "    </tr>\n",
       "    <tr>\n",
       "      <th>9</th>\n",
       "      <td>Samsung Galaxy M31 (Space Black, 6GB RAM, 128G...</td>\n",
       "      <td>16,499</td>\n",
       "      <td>4.2 out of 5 stars</td>\n",
       "      <td>https://www.amazon.in/Samsung-Galaxy-Space-Bla...</td>\n",
       "    </tr>\n",
       "    <tr>\n",
       "      <th>10</th>\n",
       "      <td>Samsung Galaxy M31s (Mirage Blue, 6GB RAM, 128...</td>\n",
       "      <td>19,499</td>\n",
       "      <td>4.3 out of 5 stars</td>\n",
       "      <td>https://www.amazon.in/Samsung-Galaxy-Mirage-12...</td>\n",
       "    </tr>\n",
       "    <tr>\n",
       "      <th>11</th>\n",
       "      <td>Samsung Galaxy M01s (Blue, 3GB RAM, 32GB Stora...</td>\n",
       "      <td>8,999</td>\n",
       "      <td>4.1 out of 5 stars</td>\n",
       "      <td>https://www.amazon.in/Samsung-Galaxy-Storage-A...</td>\n",
       "    </tr>\n",
       "    <tr>\n",
       "      <th>12</th>\n",
       "      <td>OPPO A5S (Black, 3GB RAM, 32GB Storage) With N...</td>\n",
       "      <td>8,990</td>\n",
       "      <td>4.1 out of 5 stars</td>\n",
       "      <td>https://www.amazon.in/Black-Storage-Additional...</td>\n",
       "    </tr>\n",
       "    <tr>\n",
       "      <th>13</th>\n",
       "      <td>Redmi Note 9 (Pebble Grey, 4GB RAM 64GB Storag...</td>\n",
       "      <td>11,999</td>\n",
       "      <td>4.2 out of 5 stars</td>\n",
       "      <td>https://www.amazon.in/Redmi-Note-Pebble-Grey-S...</td>\n",
       "    </tr>\n",
       "    <tr>\n",
       "      <th>14</th>\n",
       "      <td>Redmi 8A Dual (Midnight Grey, 3GB RAM, 32GB St...</td>\n",
       "      <td>7,999</td>\n",
       "      <td>4.0 out of 5 stars</td>\n",
       "      <td>https://www.amazon.in/Redmi-8A-Dual-Midnight-S...</td>\n",
       "    </tr>\n",
       "    <tr>\n",
       "      <th>15</th>\n",
       "      <td>I KALL K210 Smartphone (5.5 Inch, 2GB Ram,16GB...</td>\n",
       "      <td>4,299</td>\n",
       "      <td></td>\n",
       "      <td>https://www.amazon.in/KALL-K210-Smartphone-Inc...</td>\n",
       "    </tr>\n",
       "  </tbody>\n",
       "</table>\n",
       "</div>"
      ],
      "text/plain": [
       "                                    Name of the Phone   Price  \\\n",
       "0   Samsung Galaxy M31 (Ocean Blue, 6GB RAM, 128GB...  16,499   \n",
       "1   Redmi 8A Dual (Sea Blue, 3GB RAM, 32GB Storage...   7,999   \n",
       "2   Samsung Galaxy M21 (Midnight Blue, 4GB RAM, 64...  13,999   \n",
       "3   Panasonic Eluga i7 (2GB RAM, 16GB Storage, Fin...   5,000   \n",
       "4   Samsung Galaxy M01 Core (Blue, 2GB RAM, 32GB S...   5,999   \n",
       "5   Redmi Note 9 Pro (Interstellar Black, 4GB RAM,...  12,999   \n",
       "6   Samsung Galaxy M01 Core (Blue, 1GB RAM, 16GB S...   4,999   \n",
       "7   Vivo Y50 (Pearl White, 8GB RAM, 128GB Storage)...  16,490   \n",
       "8   Samsung Galaxy M21 (Raven Black, 4GB RAM, 64GB...  13,999   \n",
       "9   Samsung Galaxy M31 (Space Black, 6GB RAM, 128G...  16,499   \n",
       "10  Samsung Galaxy M31s (Mirage Blue, 6GB RAM, 128...  19,499   \n",
       "11  Samsung Galaxy M01s (Blue, 3GB RAM, 32GB Stora...   8,999   \n",
       "12  OPPO A5S (Black, 3GB RAM, 32GB Storage) With N...   8,990   \n",
       "13  Redmi Note 9 (Pebble Grey, 4GB RAM 64GB Storag...  11,999   \n",
       "14  Redmi 8A Dual (Midnight Grey, 3GB RAM, 32GB St...   7,999   \n",
       "15  I KALL K210 Smartphone (5.5 Inch, 2GB Ram,16GB...   4,299   \n",
       "\n",
       "               Ratings                                               Link  \n",
       "0   4.2 out of 5 stars  https://www.amazon.in/Samsung-Galaxy-Ocean-128...  \n",
       "1   4.0 out of 5 stars  https://www.amazon.in/Redmi-8A-Dual-Blue-Stora...  \n",
       "2   4.2 out of 5 stars  https://www.amazon.in/Samsung-Galaxy-Midnight-...  \n",
       "3   2.9 out of 5 stars  https://www.amazon.in/Panasonic-Storage-Finger...  \n",
       "4   3.4 out of 5 stars  https://www.amazon.in/Samsung-Galaxy-Storage-A...  \n",
       "5   4.2 out of 5 stars  https://www.amazon.in/Redmi-Note-Pro-Interstel...  \n",
       "6   3.4 out of 5 stars  https://www.amazon.in/Samsung-Galaxy-Storage-A...  \n",
       "7   4.1 out of 5 stars  https://www.amazon.in/Vivo-Storage-Additional-...  \n",
       "8   4.2 out of 5 stars  https://www.amazon.in/Samsung-Galaxy-Raven-Bla...  \n",
       "9   4.2 out of 5 stars  https://www.amazon.in/Samsung-Galaxy-Space-Bla...  \n",
       "10  4.3 out of 5 stars  https://www.amazon.in/Samsung-Galaxy-Mirage-12...  \n",
       "11  4.1 out of 5 stars  https://www.amazon.in/Samsung-Galaxy-Storage-A...  \n",
       "12  4.1 out of 5 stars  https://www.amazon.in/Black-Storage-Additional...  \n",
       "13  4.2 out of 5 stars  https://www.amazon.in/Redmi-Note-Pebble-Grey-S...  \n",
       "14  4.0 out of 5 stars  https://www.amazon.in/Redmi-8A-Dual-Midnight-S...  \n",
       "15                      https://www.amazon.in/KALL-K210-Smartphone-Inc...  "
      ]
     },
     "execution_count": 20,
     "metadata": {},
     "output_type": "execute_result"
    }
   ],
   "source": [
    "amazon=pd.DataFrame({})\n",
    "\n",
    "amazon['Name of the Phone']=name\n",
    "amazon['Price']=price\n",
    "amazon['Ratings']=rating\n",
    "amazon['Link']=link\n",
    "\n",
    "amazon"
   ]
  },
  {
   "cell_type": "code",
   "execution_count": null,
   "metadata": {},
   "outputs": [],
   "source": []
  }
 ],
 "metadata": {
  "kernelspec": {
   "display_name": "Python 3",
   "language": "python",
   "name": "python3"
  },
  "language_info": {
   "codemirror_mode": {
    "name": "ipython",
    "version": 3
   },
   "file_extension": ".py",
   "mimetype": "text/x-python",
   "name": "python",
   "nbconvert_exporter": "python",
   "pygments_lexer": "ipython3",
   "version": "3.8.3"
  }
 },
 "nbformat": 4,
 "nbformat_minor": 4
}
