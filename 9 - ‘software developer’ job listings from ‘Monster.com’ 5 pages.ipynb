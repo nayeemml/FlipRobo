{
 "cells": [
  {
   "cell_type": "markdown",
   "metadata": {},
   "source": [
    "# Write a python program to scrape ‘software developer’ job listings from ‘Monster.com’. It should include all the jobs listed for the next 5 pages."
   ]
  },
  {
   "cell_type": "code",
   "execution_count": 1,
   "metadata": {},
   "outputs": [],
   "source": [
    "import selenium\n",
    "import pandas as pd\n",
    "from selenium import webdriver"
   ]
  },
  {
   "cell_type": "code",
   "execution_count": 2,
   "metadata": {},
   "outputs": [],
   "source": [
    "driver = webdriver.Chrome(r\"C:\\Users\\Home\\Downloads\\Nayeem\\FlipRobo internship\\WebSCraper\\chromedriver.exe\")"
   ]
  },
  {
   "cell_type": "code",
   "execution_count": 3,
   "metadata": {},
   "outputs": [],
   "source": [
    "url = \"https://www.monsterindia.com/srp/results?query=software%20developer%20&searchId=a43d3d34-8201-4f81-b729-147bce86d184\""
   ]
  },
  {
   "cell_type": "code",
   "execution_count": 4,
   "metadata": {},
   "outputs": [],
   "source": [
    "driver.get(url)\n",
    "import time"
   ]
  },
  {
   "cell_type": "code",
   "execution_count": 5,
   "metadata": {},
   "outputs": [],
   "source": [
    "job=[]\n",
    "company=[]\n",
    "location=[]\n",
    "experience=[]\n"
   ]
  },
  {
   "cell_type": "code",
   "execution_count": 6,
   "metadata": {},
   "outputs": [],
   "source": [
    "location=[]\n",
    "for i in range(0,5):\n",
    "    job_tags=driver.find_elements_by_xpath(\"//*[@id='srp-right-part']/div/div[1]/div[1]/div[2]/div/div/div/div[1]/div/div/h3/a\")\n",
    "\n",
    "    for i in job_tags:\n",
    "        job.append(i.text)\n",
    "    #########\n",
    "    company_tags=driver.find_elements_by_xpath(\"//span[@class='company-name']\")\n",
    "\n",
    "    for i in company_tags:\n",
    "        company.append(i.text)\n",
    "    ########\n",
    "    location_tags=driver.find_elements_by_xpath(\"//*[@id='srp-right-part']/div/div[1]/div[1]/div[2]/div/div/div/div/div/div/div/div[1]/span/small\")\n",
    "    \n",
    "    for i in location_tags:\n",
    "        location.append(i.text)\n",
    "    \n",
    "    #########\n",
    "    experience_tags=driver.find_elements_by_xpath(\"//*[@id='srp-right-part']/div/div[1]/div[1]/div[2]/div/div/div/div/div/div/div/div[2]/span/small\")\n",
    "    \n",
    "    for i in experience_tags:\n",
    "        experience.append(i.text)\n",
    "\n",
    "    driver.find_element_by_xpath(\"//button[@class='btn-next-prev btn-next']\").click()\n",
    "    time.sleep(5)\n"
   ]
  },
  {
   "cell_type": "code",
   "execution_count": 7,
   "metadata": {},
   "outputs": [
    {
     "data": {
      "text/plain": [
       "(125, 125, 125, 125)"
      ]
     },
     "execution_count": 7,
     "metadata": {},
     "output_type": "execute_result"
    }
   ],
   "source": [
    "len(job),len(company),len(location),len(experience)"
   ]
  },
  {
   "cell_type": "code",
   "execution_count": 8,
   "metadata": {},
   "outputs": [],
   "source": [
    "jobinCompany=pd.DataFrame({})\n",
    "\n",
    "jobinCompany[\"Job Title\"]=job\n",
    "jobinCompany[\"Company name\"]=company\n",
    "jobinCompany[\"location\"]=location\n",
    "jobinCompany[\"experience\"]=experience"
   ]
  },
  {
   "cell_type": "code",
   "execution_count": 9,
   "metadata": {},
   "outputs": [
    {
     "data": {
      "text/html": [
       "<div>\n",
       "<style scoped>\n",
       "    .dataframe tbody tr th:only-of-type {\n",
       "        vertical-align: middle;\n",
       "    }\n",
       "\n",
       "    .dataframe tbody tr th {\n",
       "        vertical-align: top;\n",
       "    }\n",
       "\n",
       "    .dataframe thead th {\n",
       "        text-align: right;\n",
       "    }\n",
       "</style>\n",
       "<table border=\"1\" class=\"dataframe\">\n",
       "  <thead>\n",
       "    <tr style=\"text-align: right;\">\n",
       "      <th></th>\n",
       "      <th>Job Title</th>\n",
       "      <th>Company name</th>\n",
       "      <th>location</th>\n",
       "      <th>experience</th>\n",
       "    </tr>\n",
       "  </thead>\n",
       "  <tbody>\n",
       "    <tr>\n",
       "      <th>0</th>\n",
       "      <td>SFCC Developer - Demandware Platform</td>\n",
       "      <td>Rohini IT Consulting LLP</td>\n",
       "      <td>Pune</td>\n",
       "      <td>3-8 Years</td>\n",
       "    </tr>\n",
       "    <tr>\n",
       "      <th>1</th>\n",
       "      <td>urgent hiring work from home job for (AWS Dev ...</td>\n",
       "      <td>Company Name Confidential</td>\n",
       "      <td>Bengaluru / Bangalore, Delhi</td>\n",
       "      <td>4-10 Years</td>\n",
       "    </tr>\n",
       "    <tr>\n",
       "      <th>2</th>\n",
       "      <td>Hiring \"Software Developer\" - Mumbai</td>\n",
       "      <td>HR Dynamics</td>\n",
       "      <td>Mumbai, Mumbai City</td>\n",
       "      <td>2-6 Years</td>\n",
       "    </tr>\n",
       "    <tr>\n",
       "      <th>3</th>\n",
       "      <td>Software Developer</td>\n",
       "      <td>Minda Solution Tech Mark</td>\n",
       "      <td>Kolkata</td>\n",
       "      <td>0-2 Years</td>\n",
       "    </tr>\n",
       "    <tr>\n",
       "      <th>4</th>\n",
       "      <td>Software Developer</td>\n",
       "      <td>FedEx Trade Networks Transport and Brokerage P...</td>\n",
       "      <td>Hyderabad / Secunderabad</td>\n",
       "      <td>7-15 Years</td>\n",
       "    </tr>\n",
       "    <tr>\n",
       "      <th>...</th>\n",
       "      <td>...</td>\n",
       "      <td>...</td>\n",
       "      <td>...</td>\n",
       "      <td>...</td>\n",
       "    </tr>\n",
       "    <tr>\n",
       "      <th>120</th>\n",
       "      <td>Sr Software Developer</td>\n",
       "      <td>Search Bridge Consulting</td>\n",
       "      <td>Noida</td>\n",
       "      <td>5-10 Years</td>\n",
       "    </tr>\n",
       "    <tr>\n",
       "      <th>121</th>\n",
       "      <td>Hiring IT Freshers Software Engineer</td>\n",
       "      <td>Isoft It Training</td>\n",
       "      <td>Chennai</td>\n",
       "      <td>0-1 Years</td>\n",
       "    </tr>\n",
       "    <tr>\n",
       "      <th>122</th>\n",
       "      <td>CONTROL PLANE DEVELOPER</td>\n",
       "      <td>Company Name Confidential</td>\n",
       "      <td>Bengaluru / Bangalore</td>\n",
       "      <td>5-15 Years</td>\n",
       "    </tr>\n",
       "    <tr>\n",
       "      <th>123</th>\n",
       "      <td>Software Developer - Trainee</td>\n",
       "      <td>RND Softech Private Limited</td>\n",
       "      <td>Coimbatore</td>\n",
       "      <td>Fresher</td>\n",
       "    </tr>\n",
       "    <tr>\n",
       "      <th>124</th>\n",
       "      <td>Project Manager (Scrum Master)</td>\n",
       "      <td>Winvisa Associates Private Limited</td>\n",
       "      <td>Bengaluru / Bangalore</td>\n",
       "      <td>2-5 Years</td>\n",
       "    </tr>\n",
       "  </tbody>\n",
       "</table>\n",
       "<p>125 rows × 4 columns</p>\n",
       "</div>"
      ],
      "text/plain": [
       "                                             Job Title  \\\n",
       "0                 SFCC Developer - Demandware Platform   \n",
       "1    urgent hiring work from home job for (AWS Dev ...   \n",
       "2                 Hiring \"Software Developer\" - Mumbai   \n",
       "3                                   Software Developer   \n",
       "4                                   Software Developer   \n",
       "..                                                 ...   \n",
       "120                              Sr Software Developer   \n",
       "121               Hiring IT Freshers Software Engineer   \n",
       "122                            CONTROL PLANE DEVELOPER   \n",
       "123                       Software Developer - Trainee   \n",
       "124                     Project Manager (Scrum Master)   \n",
       "\n",
       "                                          Company name  \\\n",
       "0                             Rohini IT Consulting LLP   \n",
       "1                            Company Name Confidential   \n",
       "2                                          HR Dynamics   \n",
       "3                             Minda Solution Tech Mark   \n",
       "4    FedEx Trade Networks Transport and Brokerage P...   \n",
       "..                                                 ...   \n",
       "120                           Search Bridge Consulting   \n",
       "121                                  Isoft It Training   \n",
       "122                          Company Name Confidential   \n",
       "123                        RND Softech Private Limited   \n",
       "124                 Winvisa Associates Private Limited   \n",
       "\n",
       "                         location  experience  \n",
       "0                            Pune   3-8 Years  \n",
       "1    Bengaluru / Bangalore, Delhi  4-10 Years  \n",
       "2             Mumbai, Mumbai City   2-6 Years  \n",
       "3                         Kolkata   0-2 Years  \n",
       "4        Hyderabad / Secunderabad  7-15 Years  \n",
       "..                            ...         ...  \n",
       "120                         Noida  5-10 Years  \n",
       "121                       Chennai   0-1 Years  \n",
       "122         Bengaluru / Bangalore  5-15 Years  \n",
       "123                    Coimbatore     Fresher  \n",
       "124         Bengaluru / Bangalore   2-5 Years  \n",
       "\n",
       "[125 rows x 4 columns]"
      ]
     },
     "execution_count": 9,
     "metadata": {},
     "output_type": "execute_result"
    }
   ],
   "source": [
    "jobinCompany"
   ]
  },
  {
   "cell_type": "code",
   "execution_count": null,
   "metadata": {},
   "outputs": [],
   "source": []
  }
 ],
 "metadata": {
  "kernelspec": {
   "display_name": "Python 3",
   "language": "python",
   "name": "python3"
  },
  "language_info": {
   "codemirror_mode": {
    "name": "ipython",
    "version": 3
   },
   "file_extension": ".py",
   "mimetype": "text/x-python",
   "name": "python",
   "nbconvert_exporter": "python",
   "pygments_lexer": "ipython3",
   "version": "3.8.3"
  }
 },
 "nbformat": 4,
 "nbformat_minor": 4
}
