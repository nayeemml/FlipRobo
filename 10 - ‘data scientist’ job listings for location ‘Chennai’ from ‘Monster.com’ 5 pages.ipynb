{
 "cells": [
  {
   "cell_type": "markdown",
   "metadata": {},
   "source": [
    "# 10. Write a python program to scrape ‘data scientist’ job listings for location ‘Chennai’ from ‘Monster.com’. It should include all the jobs listed for the next 5 pages."
   ]
  },
  {
   "cell_type": "code",
   "execution_count": 1,
   "metadata": {},
   "outputs": [],
   "source": [
    "import selenium\n",
    "import pandas as pd\n",
    "from selenium import webdriver"
   ]
  },
  {
   "cell_type": "code",
   "execution_count": 2,
   "metadata": {},
   "outputs": [],
   "source": [
    "driver = webdriver.Chrome(r\"C:\\Users\\Home\\Downloads\\Nayeem\\FlipRobo internship\\WebSCraper\\chromedriver.exe\")"
   ]
  },
  {
   "cell_type": "code",
   "execution_count": 3,
   "metadata": {},
   "outputs": [],
   "source": [
    "url = \"https://www.monsterindia.com/srp/results?query=data%20scientist&locations=Chennai&searchId=e53ed342-6c83-4050-af91-4682f0e89614\""
   ]
  },
  {
   "cell_type": "code",
   "execution_count": 4,
   "metadata": {},
   "outputs": [],
   "source": [
    "driver.get(url)\n",
    "import time"
   ]
  },
  {
   "cell_type": "code",
   "execution_count": 5,
   "metadata": {},
   "outputs": [],
   "source": [
    "job=[]\n",
    "company=[]\n",
    "location=[]\n",
    "experience=[]\n",
    "\n",
    "for i in range(0,5):\n",
    "    job_tags=driver.find_elements_by_xpath(\"//div[@class='job-tittle']/h3\")\n",
    "   \n",
    "    for i in job_tags:\n",
    "        job.append(i.text)\n",
    "     #########\n",
    "    company_tags=driver.find_elements_by_xpath(\"//span[@class='company-name']\")\n",
    "\n",
    "    for i in company_tags:\n",
    "        company.append(i.text)\n",
    "#     ########\n",
    "    location_tags=driver.find_elements_by_xpath(\"//*[@id='srp-right-part']/div/div[1]/div[1]/div[3]/div/div/div/div/div/div/div/div[1]/span/small\")\n",
    "    \n",
    "    for i in location_tags:\n",
    "        location.append(i.text)\n",
    "    \n",
    "#     #########\n",
    "    experience_tags=driver.find_elements_by_xpath(\"//*[@id='srp-right-part']/div/div[1]/div[1]/div[3]/div/div/div/div/div/div/div/div[2]/span/small\")\n",
    "    experience_tags=driver.find_elements_by_xpath(\"//div[@class='job-tittle']//div[@class='exp col-xxs-12 col-sm-3 text-ellipsis']//span[@class='loc']\")        \n",
    "\n",
    "    for i in experience_tags:\n",
    "        if i.text=\"\":\n",
    "            experience.append(\"\")\n",
    "        experience.append(i.text)\n",
    "\n",
    "    driver.find_element_by_xpath(\"//button[@class='btn-next-prev btn-next']\").click()\n",
    "    time.sleep(5)\n"
   ]
  },
  {
   "cell_type": "markdown",
   "metadata": {},
   "source": [
    "# Since the Experience length is not matching the other feature length and the missing data of exact company is not determined. Not including the experience column in the final DataFrame"
   ]
  },
  {
   "cell_type": "code",
   "execution_count": 15,
   "metadata": {},
   "outputs": [
    {
     "data": {
      "text/plain": [
       "(126, 126, 126, 115)"
      ]
     },
     "execution_count": 15,
     "metadata": {},
     "output_type": "execute_result"
    }
   ],
   "source": [
    "len(job),len(company),len(location),len(experience)"
   ]
  },
  {
   "cell_type": "code",
   "execution_count": 8,
   "metadata": {},
   "outputs": [],
   "source": [
    "jobinCompany=pd.DataFrame({})\n",
    "\n",
    "jobinCompany[\"Job Title\"]=job\n",
    "jobinCompany[\"Company name\"]=company\n",
    "jobinCompany[\"location\"]=location\n",
    "#jobinCompany[\"experience\"]=experience"
   ]
  },
  {
   "cell_type": "code",
   "execution_count": 9,
   "metadata": {},
   "outputs": [
    {
     "data": {
      "text/html": [
       "<div>\n",
       "<style scoped>\n",
       "    .dataframe tbody tr th:only-of-type {\n",
       "        vertical-align: middle;\n",
       "    }\n",
       "\n",
       "    .dataframe tbody tr th {\n",
       "        vertical-align: top;\n",
       "    }\n",
       "\n",
       "    .dataframe thead th {\n",
       "        text-align: right;\n",
       "    }\n",
       "</style>\n",
       "<table border=\"1\" class=\"dataframe\">\n",
       "  <thead>\n",
       "    <tr style=\"text-align: right;\">\n",
       "      <th></th>\n",
       "      <th>Job Title</th>\n",
       "      <th>Company name</th>\n",
       "      <th>location</th>\n",
       "    </tr>\n",
       "  </thead>\n",
       "  <tbody>\n",
       "    <tr>\n",
       "      <th>0</th>\n",
       "      <td>Clinical Trial Database Analyst (SPOTFIRE)\\nsp...</td>\n",
       "      <td>Cognizant Technology Solutions India Pvt Ltd</td>\n",
       "      <td>Bengaluru / Bangalore, Chennai</td>\n",
       "    </tr>\n",
       "    <tr>\n",
       "      <th>1</th>\n",
       "      <td>FREELANCE DATA ENTRY JOB / ONLINE WORK FROM HOME</td>\n",
       "      <td>Resume Filling</td>\n",
       "      <td>Chennai, Coimbatore</td>\n",
       "    </tr>\n",
       "    <tr>\n",
       "      <th>2</th>\n",
       "      <td>FREELANCE DATA ENTRY JOB / ONLINE WORK FROM HOME</td>\n",
       "      <td>Resume Filling</td>\n",
       "      <td>Bengaluru / Bangalore, Chennai</td>\n",
       "    </tr>\n",
       "    <tr>\n",
       "      <th>3</th>\n",
       "      <td>Data Acquisition Assistant</td>\n",
       "      <td>Joyamaze India Private Limited</td>\n",
       "      <td>Chennai, Mumbai</td>\n",
       "    </tr>\n",
       "    <tr>\n",
       "      <th>4</th>\n",
       "      <td>Online Data Entry / Work From Home / TYPING Jops</td>\n",
       "      <td>Resume Filling</td>\n",
       "      <td>Bengaluru / Bangalore, Chennai</td>\n",
       "    </tr>\n",
       "    <tr>\n",
       "      <th>...</th>\n",
       "      <td>...</td>\n",
       "      <td>...</td>\n",
       "      <td>...</td>\n",
       "    </tr>\n",
       "    <tr>\n",
       "      <th>121</th>\n",
       "      <td>Software Testing Engineer - Fresher</td>\n",
       "      <td>Comfyi Solution</td>\n",
       "      <td>Chennai</td>\n",
       "    </tr>\n",
       "    <tr>\n",
       "      <th>122</th>\n",
       "      <td>Talend Quality Engineer</td>\n",
       "      <td>Tech Mahindra Limited</td>\n",
       "      <td>Bengaluru / Bangalore, Chennai</td>\n",
       "    </tr>\n",
       "    <tr>\n",
       "      <th>123</th>\n",
       "      <td>Banking Non Voice Process - Day Shift</td>\n",
       "      <td>MMC Infotech Services Private Limited</td>\n",
       "      <td>Chennai</td>\n",
       "    </tr>\n",
       "    <tr>\n",
       "      <th>124</th>\n",
       "      <td>WORK FROM HOME</td>\n",
       "      <td>Unnati Infotech Solution</td>\n",
       "      <td>Bengaluru / Bangalore, Chennai</td>\n",
       "    </tr>\n",
       "    <tr>\n",
       "      <th>125</th>\n",
       "      <td>Freelancing work for everyone and earn up-to 6...</td>\n",
       "      <td>The tour vacations</td>\n",
       "      <td>Bengaluru / Bangalore, Chennai</td>\n",
       "    </tr>\n",
       "  </tbody>\n",
       "</table>\n",
       "<p>126 rows × 3 columns</p>\n",
       "</div>"
      ],
      "text/plain": [
       "                                             Job Title  \\\n",
       "0    Clinical Trial Database Analyst (SPOTFIRE)\\nsp...   \n",
       "1     FREELANCE DATA ENTRY JOB / ONLINE WORK FROM HOME   \n",
       "2     FREELANCE DATA ENTRY JOB / ONLINE WORK FROM HOME   \n",
       "3                           Data Acquisition Assistant   \n",
       "4     Online Data Entry / Work From Home / TYPING Jops   \n",
       "..                                                 ...   \n",
       "121                Software Testing Engineer - Fresher   \n",
       "122                            Talend Quality Engineer   \n",
       "123              Banking Non Voice Process - Day Shift   \n",
       "124                                     WORK FROM HOME   \n",
       "125  Freelancing work for everyone and earn up-to 6...   \n",
       "\n",
       "                                     Company name  \\\n",
       "0    Cognizant Technology Solutions India Pvt Ltd   \n",
       "1                                  Resume Filling   \n",
       "2                                  Resume Filling   \n",
       "3                  Joyamaze India Private Limited   \n",
       "4                                  Resume Filling   \n",
       "..                                            ...   \n",
       "121                               Comfyi Solution   \n",
       "122                         Tech Mahindra Limited   \n",
       "123         MMC Infotech Services Private Limited   \n",
       "124                      Unnati Infotech Solution   \n",
       "125                            The tour vacations   \n",
       "\n",
       "                           location  \n",
       "0    Bengaluru / Bangalore, Chennai  \n",
       "1               Chennai, Coimbatore  \n",
       "2    Bengaluru / Bangalore, Chennai  \n",
       "3                   Chennai, Mumbai  \n",
       "4    Bengaluru / Bangalore, Chennai  \n",
       "..                              ...  \n",
       "121                         Chennai  \n",
       "122  Bengaluru / Bangalore, Chennai  \n",
       "123                         Chennai  \n",
       "124  Bengaluru / Bangalore, Chennai  \n",
       "125  Bengaluru / Bangalore, Chennai  \n",
       "\n",
       "[126 rows x 3 columns]"
      ]
     },
     "execution_count": 9,
     "metadata": {},
     "output_type": "execute_result"
    }
   ],
   "source": [
    "jobinCompany"
   ]
  },
  {
   "cell_type": "code",
   "execution_count": 13,
   "metadata": {},
   "outputs": [
    {
     "data": {
      "text/plain": [
       "['0-2 Years',\n",
       " '0-2 Years',\n",
       " '5-10 Years',\n",
       " '0-2 Years',\n",
       " '0-2 Years',\n",
       " '1-3 Years',\n",
       " '0-5 Years',\n",
       " '0-1 Years',\n",
       " '0-2 Years',\n",
       " '7-12 Years',\n",
       " '0-2 Years',\n",
       " '5-10 Years',\n",
       " '10-15 Years',\n",
       " '1-2 Years',\n",
       " '4-7 Years',\n",
       " '4-8 Years',\n",
       " '0-5 Years',\n",
       " '0-2 Years',\n",
       " '0-2 Years',\n",
       " '0-2 Years',\n",
       " '0-2 Years',\n",
       " '0-2 Years',\n",
       " '0-2 Years',\n",
       " '0-4 Years',\n",
       " '6-10 Years',\n",
       " '0-2 Years',\n",
       " '0-4 Years',\n",
       " '3-10 Years',\n",
       " '0-1 Years',\n",
       " '0-1 Years',\n",
       " '6-8 Years',\n",
       " '0-3 Years',\n",
       " '0-2 Years',\n",
       " '0-3 Years',\n",
       " '0-2 Years',\n",
       " '8-15 Years',\n",
       " '0-4 Years',\n",
       " '0-2 Years',\n",
       " '0-5 Years',\n",
       " '9-13 Years',\n",
       " '0-5 Years',\n",
       " '0-5 Years',\n",
       " '5-10 Years',\n",
       " '0-2 Years',\n",
       " '6-9 Years',\n",
       " '0-5 Years',\n",
       " '0-5 Years',\n",
       " '0-5 Years',\n",
       " '8-12 Years',\n",
       " '2-5 Years',\n",
       " '0-5 Years',\n",
       " '0-1 Years',\n",
       " '0-2 Years',\n",
       " '0-2 Years',\n",
       " '0-2 Years',\n",
       " '0-3 Years',\n",
       " '1-4 Years',\n",
       " '0-3 Years',\n",
       " '0-5 Years',\n",
       " '5-10 Years',\n",
       " '5-8 Years',\n",
       " '1-4 Years',\n",
       " '5-7 Years',\n",
       " '0-1 Years',\n",
       " '4-10 Years',\n",
       " '1-3 Years',\n",
       " '4-8 Years',\n",
       " '0-2 Years',\n",
       " '4-8 Years',\n",
       " '0-1 Years',\n",
       " '0-5 Years',\n",
       " '0-5 Years',\n",
       " '0-1 Years',\n",
       " '0-1 Years',\n",
       " '1-3 Years',\n",
       " '0-5 Years',\n",
       " '0-5 Years',\n",
       " '5-10 Years',\n",
       " '0-1 Years',\n",
       " '0-2 Years',\n",
       " '0-5 Years',\n",
       " '0-5 Years',\n",
       " '0-1 Years',\n",
       " '4-8 Years',\n",
       " '5-10 Years',\n",
       " '5-8 Years']"
      ]
     },
     "execution_count": 13,
     "metadata": {},
     "output_type": "execute_result"
    }
   ],
   "source": [
    "test_experience=[]\n",
    "for i in range(0,5):\n",
    "    test_experience_tags=driver.find_elements_by_xpath(\"//div[@class='job-tittle']//div[@class='exp col-xxs-12 col-sm-3 text-ellipsis']//span[@class='loc']\")        \n",
    "\n",
    "    for i in test_experience_tags:\n",
    "        if i.text==\"\":\n",
    "            test_experience.append(\"\")\n",
    "            break\n",
    "        test_experience.append(i.text)\n",
    "\n",
    "    driver.find_element_by_xpath(\"//button[@class='btn-next-prev btn-next']\").click()\n",
    "    time.sleep(50)\n",
    "test_experience"
   ]
  },
  {
   "cell_type": "code",
   "execution_count": 14,
   "metadata": {},
   "outputs": [
    {
     "data": {
      "text/plain": [
       "86"
      ]
     },
     "execution_count": 14,
     "metadata": {},
     "output_type": "execute_result"
    }
   ],
   "source": [
    "len(test_experience)"
   ]
  },
  {
   "cell_type": "code",
   "execution_count": null,
   "metadata": {},
   "outputs": [],
   "source": []
  }
 ],
 "metadata": {
  "kernelspec": {
   "display_name": "Python 3",
   "language": "python",
   "name": "python3"
  },
  "language_info": {
   "codemirror_mode": {
    "name": "ipython",
    "version": 3
   },
   "file_extension": ".py",
   "mimetype": "text/x-python",
   "name": "python",
   "nbconvert_exporter": "python",
   "pygments_lexer": "ipython3",
   "version": "3.8.3"
  }
 },
 "nbformat": 4,
 "nbformat_minor": 4
}
