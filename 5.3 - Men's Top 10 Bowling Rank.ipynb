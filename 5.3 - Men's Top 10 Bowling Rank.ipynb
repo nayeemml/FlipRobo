{
 "cells": [
  {
   "cell_type": "markdown",
   "metadata": {},
   "source": [
    "# Men's Top 10 Bowling Rank"
   ]
  },
  {
   "cell_type": "code",
   "execution_count": 1,
   "metadata": {},
   "outputs": [],
   "source": [
    "import selenium\n",
    "import pandas as pd\n",
    "from selenium import webdriver "
   ]
  },
  {
   "cell_type": "code",
   "execution_count": 2,
   "metadata": {},
   "outputs": [],
   "source": [
    "driver=webdriver.Chrome(r\"C:\\Users\\Home\\Downloads\\Nayeem\\FlipRobo internship\\WebSCraper\\chromedriver.exe\")"
   ]
  },
  {
   "cell_type": "code",
   "execution_count": 3,
   "metadata": {},
   "outputs": [],
   "source": [
    "url=\"https://www.icc-cricket.com/rankings/mens/player-rankings/odi\""
   ]
  },
  {
   "cell_type": "code",
   "execution_count": 4,
   "metadata": {},
   "outputs": [],
   "source": [
    "driver.get(url)"
   ]
  },
  {
   "cell_type": "code",
   "execution_count": 5,
   "metadata": {},
   "outputs": [],
   "source": [
    "pos=[]\n",
    "name=[]\n",
    "team=[]\n",
    "rating=[]\n"
   ]
  },
  {
   "cell_type": "code",
   "execution_count": 6,
   "metadata": {},
   "outputs": [],
   "source": [
    "#(//*[@id=\"main-content\"]/div/div[2]/div/div/section[1]/div[2]/div[2]/div/div[1]/a/div/div[1])\n",
    "first_position=driver.find_element_by_xpath('//*[@id=\"main-content\"]/div/div[2]/div/div/section[1]/div[2]/div[2]/div/div[1]/a/div/div[1]')\n",
    "first_name=driver.find_element_by_xpath('//*[@id=\"main-content\"]/div/div[2]/div/div/section[1]/div[2]/div[2]/div/div[1]/a/div/div[2]/div[1]')\n",
    "first_team=driver.find_element_by_xpath('//*[@id=\"main-content\"]/div/div[2]/div/div/section[1]/div[2]/div[2]/div/div[1]/a/div/div[2]/div[2]')\n",
    "first_rating=driver.find_element_by_xpath('//*[@id=\"main-content\"]/div/div[2]/div/div/section[1]/div[2]/div[2]/div/div[1]/a/div/div[2]/div[2]/div[2]')\n"
   ]
  },
  {
   "cell_type": "code",
   "execution_count": 7,
   "metadata": {},
   "outputs": [
    {
     "data": {
      "text/plain": [
       "('Trent Boult', '1', '722', 'NZ')"
      ]
     },
     "execution_count": 7,
     "metadata": {},
     "output_type": "execute_result"
    }
   ],
   "source": [
    "first_name.text,first_position.text,first_rating.text,first_team.text[0:3].replace(\"\\n\",\"\")"
   ]
  },
  {
   "cell_type": "code",
   "execution_count": 8,
   "metadata": {},
   "outputs": [],
   "source": [
    "pos.append(first_position.text)\n",
    "name.append(first_name.text)\n",
    "#team.append(first_team.text[0:3])\n",
    "rating.append(first_rating.text)\n",
    "#(//*[@id=\"main-content\"]/div/div[2]/div/div/section[1]/div[2]/div[2]/div/table/tbody/tr[1]/td[1])"
   ]
  },
  {
   "cell_type": "code",
   "execution_count": 9,
   "metadata": {},
   "outputs": [],
   "source": [
    "\n",
    "p_position=driver.find_elements_by_xpath('//*[@id=\"main-content\"]/div/div[2]/div/div/section[1]/div[2]/div[2]/div/table/tbody/tr/td[1]')\n",
    "p_name=driver.find_elements_by_xpath('//*[@id=\"main-content\"]/div/div[2]/div/div/section[1]/div[2]/div[2]/div/table/tbody/tr/td[2]')\n",
    "#p_team=driver.find_elements_by_xpath(\"//*[@id='main-content']/div/div[2]/div/div/section[1]/div[2]/div[1]/div/table/tbody/tr/td[3]\")\n",
    "\n",
    "p_rating=driver.find_elements_by_xpath('//*[@id=\"main-content\"]/div/div[2]/div/div/section[1]/div[2]/div[2]/div/table/tbody/tr/td[4]')\n",
    "p_team=driver.find_elements_by_xpath(\"//*[@id='main-content']/div/div[2]/div/div/section[1]/div[2]/div[2]/div/table/tbody/tr/td[3]/span[2]\")"
   ]
  },
  {
   "cell_type": "code",
   "execution_count": 10,
   "metadata": {},
   "outputs": [],
   "source": [
    "import pandas as pd\n",
    "top10bowl=pd.DataFrame({})\n"
   ]
  },
  {
   "cell_type": "code",
   "execution_count": 11,
   "metadata": {},
   "outputs": [],
   "source": [
    "for i in p_position:\n",
    "     pos.append(i.text)\n",
    "for i in p_name:\n",
    "     name.append(i.text)\n",
    "# for i in p_team:\n",
    "#      team.append(i.text)\n",
    "for i in p_rating:\n",
    "     rating.append(i.text)"
   ]
  },
  {
   "cell_type": "code",
   "execution_count": 12,
   "metadata": {},
   "outputs": [],
   "source": [
    "top10bowl[\"Position\"]=pos\n",
    "top10bowl[\"Name\"]=name\n",
    "#top10bat[\"Team\"]=team\n",
    "top10bowl[\"Ratings\"]=rating"
   ]
  },
  {
   "cell_type": "code",
   "execution_count": 13,
   "metadata": {},
   "outputs": [
    {
     "data": {
      "text/html": [
       "<div>\n",
       "<style scoped>\n",
       "    .dataframe tbody tr th:only-of-type {\n",
       "        vertical-align: middle;\n",
       "    }\n",
       "\n",
       "    .dataframe tbody tr th {\n",
       "        vertical-align: top;\n",
       "    }\n",
       "\n",
       "    .dataframe thead th {\n",
       "        text-align: right;\n",
       "    }\n",
       "</style>\n",
       "<table border=\"1\" class=\"dataframe\">\n",
       "  <thead>\n",
       "    <tr style=\"text-align: right;\">\n",
       "      <th></th>\n",
       "      <th>Position</th>\n",
       "      <th>Name</th>\n",
       "      <th>Ratings</th>\n",
       "    </tr>\n",
       "  </thead>\n",
       "  <tbody>\n",
       "    <tr>\n",
       "      <th>0</th>\n",
       "      <td>1</td>\n",
       "      <td>Trent Boult</td>\n",
       "      <td>722</td>\n",
       "    </tr>\n",
       "    <tr>\n",
       "      <th>1</th>\n",
       "      <td>2</td>\n",
       "      <td>Mujeeb Ur Rahman</td>\n",
       "      <td>701</td>\n",
       "    </tr>\n",
       "    <tr>\n",
       "      <th>2</th>\n",
       "      <td>3</td>\n",
       "      <td>Jasprit Bumrah</td>\n",
       "      <td>700</td>\n",
       "    </tr>\n",
       "    <tr>\n",
       "      <th>3</th>\n",
       "      <td>4</td>\n",
       "      <td>Chris Woakes</td>\n",
       "      <td>675</td>\n",
       "    </tr>\n",
       "    <tr>\n",
       "      <th>4</th>\n",
       "      <td>5</td>\n",
       "      <td>Kagiso Rabada</td>\n",
       "      <td>665</td>\n",
       "    </tr>\n",
       "    <tr>\n",
       "      <th>5</th>\n",
       "      <td>6</td>\n",
       "      <td>Josh Hazlewood</td>\n",
       "      <td>660</td>\n",
       "    </tr>\n",
       "    <tr>\n",
       "      <th>6</th>\n",
       "      <td>7</td>\n",
       "      <td>Mohammad Amir</td>\n",
       "      <td>647</td>\n",
       "    </tr>\n",
       "    <tr>\n",
       "      <th>7</th>\n",
       "      <td>8</td>\n",
       "      <td>Pat Cummins</td>\n",
       "      <td>646</td>\n",
       "    </tr>\n",
       "    <tr>\n",
       "      <th>8</th>\n",
       "      <td>9</td>\n",
       "      <td>Matt Henry</td>\n",
       "      <td>641</td>\n",
       "    </tr>\n",
       "    <tr>\n",
       "      <th>9</th>\n",
       "      <td>10</td>\n",
       "      <td>Jofra Archer</td>\n",
       "      <td>637</td>\n",
       "    </tr>\n",
       "  </tbody>\n",
       "</table>\n",
       "</div>"
      ],
      "text/plain": [
       "  Position              Name Ratings\n",
       "0        1       Trent Boult     722\n",
       "1        2  Mujeeb Ur Rahman     701\n",
       "2        3    Jasprit Bumrah     700\n",
       "3        4      Chris Woakes     675\n",
       "4        5     Kagiso Rabada     665\n",
       "5        6    Josh Hazlewood     660\n",
       "6        7     Mohammad Amir     647\n",
       "7        8       Pat Cummins     646\n",
       "8        9        Matt Henry     641\n",
       "9       10      Jofra Archer     637"
      ]
     },
     "execution_count": 13,
     "metadata": {},
     "output_type": "execute_result"
    }
   ],
   "source": [
    "top10bowl"
   ]
  },
  {
   "cell_type": "code",
   "execution_count": 14,
   "metadata": {},
   "outputs": [
    {
     "data": {
      "text/plain": [
       "['NZ', 'AFG', 'IND', 'ENG', 'SA', 'AUS', 'PAK', 'AUS', 'NZ', 'ENG']"
      ]
     },
     "execution_count": 14,
     "metadata": {},
     "output_type": "execute_result"
    }
   ],
   "source": [
    "team=[]\n",
    "team.append(first_team.text[0:3].replace(\"\\n\",\"\"))\n",
    "for i in p_team:\n",
    "    team.append(i.get_attribute('innerHTML'))\n",
    "team"
   ]
  },
  {
   "cell_type": "code",
   "execution_count": 15,
   "metadata": {},
   "outputs": [],
   "source": [
    "top10bowl[\"Team\"]=team"
   ]
  },
  {
   "cell_type": "code",
   "execution_count": 16,
   "metadata": {},
   "outputs": [
    {
     "data": {
      "text/html": [
       "<div>\n",
       "<style scoped>\n",
       "    .dataframe tbody tr th:only-of-type {\n",
       "        vertical-align: middle;\n",
       "    }\n",
       "\n",
       "    .dataframe tbody tr th {\n",
       "        vertical-align: top;\n",
       "    }\n",
       "\n",
       "    .dataframe thead th {\n",
       "        text-align: right;\n",
       "    }\n",
       "</style>\n",
       "<table border=\"1\" class=\"dataframe\">\n",
       "  <thead>\n",
       "    <tr style=\"text-align: right;\">\n",
       "      <th></th>\n",
       "      <th>Position</th>\n",
       "      <th>Name</th>\n",
       "      <th>Ratings</th>\n",
       "      <th>Team</th>\n",
       "    </tr>\n",
       "  </thead>\n",
       "  <tbody>\n",
       "    <tr>\n",
       "      <th>0</th>\n",
       "      <td>1</td>\n",
       "      <td>Trent Boult</td>\n",
       "      <td>722</td>\n",
       "      <td>NZ</td>\n",
       "    </tr>\n",
       "    <tr>\n",
       "      <th>1</th>\n",
       "      <td>2</td>\n",
       "      <td>Mujeeb Ur Rahman</td>\n",
       "      <td>701</td>\n",
       "      <td>AFG</td>\n",
       "    </tr>\n",
       "    <tr>\n",
       "      <th>2</th>\n",
       "      <td>3</td>\n",
       "      <td>Jasprit Bumrah</td>\n",
       "      <td>700</td>\n",
       "      <td>IND</td>\n",
       "    </tr>\n",
       "    <tr>\n",
       "      <th>3</th>\n",
       "      <td>4</td>\n",
       "      <td>Chris Woakes</td>\n",
       "      <td>675</td>\n",
       "      <td>ENG</td>\n",
       "    </tr>\n",
       "    <tr>\n",
       "      <th>4</th>\n",
       "      <td>5</td>\n",
       "      <td>Kagiso Rabada</td>\n",
       "      <td>665</td>\n",
       "      <td>SA</td>\n",
       "    </tr>\n",
       "    <tr>\n",
       "      <th>5</th>\n",
       "      <td>6</td>\n",
       "      <td>Josh Hazlewood</td>\n",
       "      <td>660</td>\n",
       "      <td>AUS</td>\n",
       "    </tr>\n",
       "    <tr>\n",
       "      <th>6</th>\n",
       "      <td>7</td>\n",
       "      <td>Mohammad Amir</td>\n",
       "      <td>647</td>\n",
       "      <td>PAK</td>\n",
       "    </tr>\n",
       "    <tr>\n",
       "      <th>7</th>\n",
       "      <td>8</td>\n",
       "      <td>Pat Cummins</td>\n",
       "      <td>646</td>\n",
       "      <td>AUS</td>\n",
       "    </tr>\n",
       "    <tr>\n",
       "      <th>8</th>\n",
       "      <td>9</td>\n",
       "      <td>Matt Henry</td>\n",
       "      <td>641</td>\n",
       "      <td>NZ</td>\n",
       "    </tr>\n",
       "    <tr>\n",
       "      <th>9</th>\n",
       "      <td>10</td>\n",
       "      <td>Jofra Archer</td>\n",
       "      <td>637</td>\n",
       "      <td>ENG</td>\n",
       "    </tr>\n",
       "  </tbody>\n",
       "</table>\n",
       "</div>"
      ],
      "text/plain": [
       "  Position              Name Ratings Team\n",
       "0        1       Trent Boult     722   NZ\n",
       "1        2  Mujeeb Ur Rahman     701  AFG\n",
       "2        3    Jasprit Bumrah     700  IND\n",
       "3        4      Chris Woakes     675  ENG\n",
       "4        5     Kagiso Rabada     665   SA\n",
       "5        6    Josh Hazlewood     660  AUS\n",
       "6        7     Mohammad Amir     647  PAK\n",
       "7        8       Pat Cummins     646  AUS\n",
       "8        9        Matt Henry     641   NZ\n",
       "9       10      Jofra Archer     637  ENG"
      ]
     },
     "execution_count": 16,
     "metadata": {},
     "output_type": "execute_result"
    }
   ],
   "source": [
    "top10bowl"
   ]
  }
 ],
 "metadata": {
  "kernelspec": {
   "display_name": "Python 3",
   "language": "python",
   "name": "python3"
  },
  "language_info": {
   "codemirror_mode": {
    "name": "ipython",
    "version": 3
   },
   "file_extension": ".py",
   "mimetype": "text/x-python",
   "name": "python",
   "nbconvert_exporter": "python",
   "pygments_lexer": "ipython3",
   "version": "3.8.3"
  }
 },
 "nbformat": 4,
 "nbformat_minor": 4
}
